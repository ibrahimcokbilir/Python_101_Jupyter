{
 "cells": [
  {
   "cell_type": "markdown",
   "metadata": {},
   "source": [
    "# IF , ELIF Controller"
   ]
  },
  {
   "cell_type": "code",
   "execution_count": 2,
   "metadata": {},
   "outputs": [],
   "source": [
    "x= 4\n",
    "y= 4"
   ]
  },
  {
   "cell_type": "code",
   "execution_count": 3,
   "metadata": {},
   "outputs": [
    {
     "name": "stdout",
     "output_type": "stream",
     "text": [
      "x is equal to y\n"
     ]
    }
   ],
   "source": [
    "if x > y:\n",
    "    print('x is greater than y')\n",
    "elif x == y:\n",
    "    print('x is equal to y')\n",
    "elif x < y:\n",
    "    print('x is smaller than y')\n",
    "else:\n",
    "    print(\"we don't know\")"
   ]
  },
  {
   "cell_type": "code",
   "execution_count": 4,
   "metadata": {},
   "outputs": [
    {
     "name": "stdout",
     "output_type": "stream",
     "text": [
      "my Hero : Batman\n"
     ]
    }
   ],
   "source": [
    "my_superhero = input('my Hero : ')"
   ]
  },
  {
   "cell_type": "code",
   "execution_count": 5,
   "metadata": {},
   "outputs": [],
   "source": [
    "my_string = \"My character is not dead\""
   ]
  },
  {
   "cell_type": "code",
   "execution_count": 6,
   "metadata": {},
   "outputs": [
    {
     "name": "stdout",
     "output_type": "stream",
     "text": [
      "True\n"
     ]
    }
   ],
   "source": [
    "if \"dead\" in my_string:\n",
    "    print(\"True\")\n",
    "else:\n",
    "    print(\"false\")"
   ]
  },
  {
   "cell_type": "markdown",
   "metadata": {},
   "source": [
    "# FOR Controller"
   ]
  },
  {
   "cell_type": "code",
   "execution_count": 7,
   "metadata": {},
   "outputs": [],
   "source": [
    "my_list = [1,2,3,4,5]"
   ]
  },
  {
   "cell_type": "code",
   "execution_count": 8,
   "metadata": {},
   "outputs": [
    {
     "name": "stdout",
     "output_type": "stream",
     "text": [
      "Ibrahim Cokbilir\n",
      "Ibrahim Cokbilir\n",
      "Ibrahim Cokbilir\n",
      "Ibrahim Cokbilir\n",
      "Ibrahim Cokbilir\n"
     ]
    }
   ],
   "source": [
    "for number in my_list:\n",
    "    print(\"Ibrahim Cokbilir\")"
   ]
  },
  {
   "cell_type": "code",
   "execution_count": 9,
   "metadata": {},
   "outputs": [
    {
     "name": "stdout",
     "output_type": "stream",
     "text": [
      "1\n",
      "2\n",
      "3\n",
      "4\n",
      "5\n"
     ]
    }
   ],
   "source": [
    "for number in my_list:\n",
    "    print(number)"
   ]
  },
  {
   "cell_type": "code",
   "execution_count": 11,
   "metadata": {},
   "outputs": [
    {
     "name": "stdout",
     "output_type": "stream",
     "text": [
      "2\n",
      "4\n"
     ]
    }
   ],
   "source": [
    "for item in my_list:\n",
    "    if item % 2 == 0:  \n",
    "        print(item) #sadece 2'ye bölünenler"
   ]
  },
  {
   "cell_type": "code",
   "execution_count": 14,
   "metadata": {},
   "outputs": [],
   "source": [
    "my_string = \"Ronnie O'Sullivan\""
   ]
  },
  {
   "cell_type": "code",
   "execution_count": 15,
   "metadata": {},
   "outputs": [
    {
     "name": "stdout",
     "output_type": "stream",
     "text": [
      "R\n",
      "o\n",
      "n\n",
      "n\n",
      "i\n",
      "e\n",
      " \n",
      "O\n",
      "'\n",
      "S\n",
      "u\n",
      "l\n",
      "l\n",
      "i\n",
      "v\n",
      "a\n",
      "n\n"
     ]
    }
   ],
   "source": [
    "for letter in my_string:\n",
    "    print(letter)"
   ]
  },
  {
   "cell_type": "code",
   "execution_count": 21,
   "metadata": {},
   "outputs": [],
   "source": [
    "my_new_list = [(\"a\",\"b\"),(\"c\",\"d\"),(\"e\",\"f\"),(\"g\",\"h\")] #liste içerisinde tuple kullanımı"
   ]
  },
  {
   "cell_type": "code",
   "execution_count": 17,
   "metadata": {},
   "outputs": [
    {
     "name": "stdout",
     "output_type": "stream",
     "text": [
      "('a', 'b')\n",
      "('c', 'd')\n",
      "('e', 'f')\n",
      "('g', 'h')\n"
     ]
    }
   ],
   "source": [
    "for element in my_new_list:\n",
    "    print (element)"
   ]
  },
  {
   "cell_type": "code",
   "execution_count": 18,
   "metadata": {},
   "outputs": [
    {
     "name": "stdout",
     "output_type": "stream",
     "text": [
      "('a', 'b')\n",
      "('c', 'd')\n",
      "('e', 'f')\n",
      "('g', 'h')\n"
     ]
    }
   ],
   "source": [
    "for (x,y) in my_new_list:\n",
    "    print((x,y))"
   ]
  },
  {
   "cell_type": "code",
   "execution_count": 20,
   "metadata": {},
   "outputs": [
    {
     "name": "stdout",
     "output_type": "stream",
     "text": [
      "a\n",
      "b\n",
      "c\n",
      "d\n",
      "e\n",
      "f\n",
      "g\n",
      "h\n"
     ]
    }
   ],
   "source": [
    "for (x,y) in my_new_list:\n",
    "    print((x))\n",
    "    print(y)"
   ]
  },
  {
   "cell_type": "code",
   "execution_count": 22,
   "metadata": {},
   "outputs": [],
   "source": [
    "my_dictionary = {\"key1\": 100,\"key2\": 200,\"key3\": 300}"
   ]
  },
  {
   "cell_type": "code",
   "execution_count": 36,
   "metadata": {},
   "outputs": [
    {
     "name": "stdout",
     "output_type": "stream",
     "text": [
      "key1 100\n",
      "key2 200\n",
      "key3 300\n"
     ]
    }
   ],
   "source": [
    "for (key,value) in my_dictionary.items():\n",
    "    print(key  +\" \"+ str(value))\n",
    "    "
   ]
  },
  {
   "cell_type": "markdown",
   "metadata": {},
   "source": [
    "# BREAK, CONTINUE, PASS "
   ]
  },
  {
   "cell_type": "code",
   "execution_count": 38,
   "metadata": {},
   "outputs": [],
   "source": [
    "my_num_list = [10,100, 200,20,30, 150, 400]"
   ]
  },
  {
   "cell_type": "code",
   "execution_count": 39,
   "metadata": {},
   "outputs": [
    {
     "name": "stdout",
     "output_type": "stream",
     "text": [
      "50\n",
      "500\n",
      "1000\n",
      "100\n"
     ]
    }
   ],
   "source": [
    "for num in my_num_list:\n",
    "    if num == 30:\n",
    "        break           #30'da dur\n",
    "    print(num*5)"
   ]
  },
  {
   "cell_type": "code",
   "execution_count": 41,
   "metadata": {},
   "outputs": [
    {
     "name": "stdout",
     "output_type": "stream",
     "text": [
      "50\n",
      "500\n",
      "1000\n",
      "100\n",
      "750\n",
      "2000\n"
     ]
    }
   ],
   "source": [
    "for item in my_num_list:\n",
    "    if item == 30:\n",
    "        continue        #30 olan item'ı atla\n",
    "    print(item * 5)"
   ]
  },
  {
   "cell_type": "code",
   "execution_count": 42,
   "metadata": {},
   "outputs": [],
   "source": [
    "for no in my_num_list:\n",
    "    pass"
   ]
  },
  {
   "cell_type": "markdown",
   "metadata": {},
   "source": [
    "# WHILE loop"
   ]
  },
  {
   "cell_type": "code",
   "execution_count": 43,
   "metadata": {},
   "outputs": [],
   "source": [
    "a=0"
   ]
  },
  {
   "cell_type": "code",
   "execution_count": 44,
   "metadata": {},
   "outputs": [
    {
     "name": "stdout",
     "output_type": "stream",
     "text": [
      "loop starting\n",
      "loop starting\n",
      "loop starting\n",
      "loop starting\n",
      "loop starting\n",
      "loop stopped\n"
     ]
    }
   ],
   "source": [
    "while a < 5:\n",
    "    print (\"loop starting\")\n",
    "    a += 1\n",
    "\n",
    "print(\"loop stopped\")"
   ]
  },
  {
   "cell_type": "code",
   "execution_count": 45,
   "metadata": {},
   "outputs": [],
   "source": [
    "my_loop_list = [1, 2, 3, 4, 5]"
   ]
  },
  {
   "cell_type": "code",
   "execution_count": 46,
   "metadata": {},
   "outputs": [
    {
     "data": {
      "text/plain": [
       "5"
      ]
     },
     "execution_count": 46,
     "metadata": {},
     "output_type": "execute_result"
    }
   ],
   "source": [
    "my_loop_list.pop()"
   ]
  },
  {
   "cell_type": "code",
   "execution_count": 47,
   "metadata": {},
   "outputs": [
    {
     "data": {
      "text/plain": [
       "[1, 2, 3, 4]"
      ]
     },
     "execution_count": 47,
     "metadata": {},
     "output_type": "execute_result"
    }
   ],
   "source": [
    "my_loop_list"
   ]
  },
  {
   "cell_type": "code",
   "execution_count": 50,
   "metadata": {},
   "outputs": [],
   "source": [
    "my_loop_list.append(5)"
   ]
  },
  {
   "cell_type": "code",
   "execution_count": 51,
   "metadata": {},
   "outputs": [
    {
     "data": {
      "text/plain": [
       "[1, 2, 3, 4, 5, 5]"
      ]
     },
     "execution_count": 51,
     "metadata": {},
     "output_type": "execute_result"
    }
   ],
   "source": [
    "my_loop_list"
   ]
  },
  {
   "cell_type": "code",
   "execution_count": 52,
   "metadata": {},
   "outputs": [
    {
     "name": "stdout",
     "output_type": "stream",
     "text": [
      "3 in my loop list\n",
      "3 in my loop list\n",
      "3 in my loop list\n",
      "3 in my loop list\n"
     ]
    }
   ],
   "source": [
    "while 3 in my_loop_list:\n",
    "    print(\"3 in my loop list\")\n",
    "    my_loop_list.pop()"
   ]
  },
  {
   "cell_type": "code",
   "execution_count": 59,
   "metadata": {},
   "outputs": [
    {
     "name": "stdout",
     "output_type": "stream",
     "text": [
      "value of p: 0\n",
      "value of p: 1\n",
      "value of p: 2\n",
      "value of p: 3\n",
      "value of p: 4\n",
      "value of p: 5\n",
      "value of p: 6\n",
      "value of p: 7\n",
      "value of p: 8\n",
      "value of p: 9\n"
     ]
    }
   ],
   "source": [
    "p = 0\n",
    "\n",
    "while p < 10:\n",
    "    #print(\"p: \" + str(p))\n",
    "    print (f\"value of p: {p}\")   #bir değer stringe çevrilmeden başına f yazarak da yazdırılabilir.\n",
    "    p +=1"
   ]
  },
  {
   "cell_type": "code",
   "execution_count": null,
   "metadata": {},
   "outputs": [],
   "source": []
  }
 ],
 "metadata": {
  "kernelspec": {
   "display_name": "Python 3",
   "language": "python",
   "name": "python3"
  },
  "language_info": {
   "codemirror_mode": {
    "name": "ipython",
    "version": 3
   },
   "file_extension": ".py",
   "mimetype": "text/x-python",
   "name": "python",
   "nbconvert_exporter": "python",
   "pygments_lexer": "ipython3",
   "version": "3.8.3"
  }
 },
 "nbformat": 4,
 "nbformat_minor": 4
}
